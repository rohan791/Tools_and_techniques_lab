{
 "cells": [
  {
   "cell_type": "code",
   "execution_count": 9,
   "id": "04c5793e",
   "metadata": {},
   "outputs": [
    {
     "name": "stdout",
     "output_type": "stream",
     "text": [
      "Enter age:15\n",
      "Person is not eligible to vote\n",
      "Age required for voting:\n",
      "3\n"
     ]
    }
   ],
   "source": [
    "#1. WAP to determine whether a person is eligible to cast vote or not. If he /she was not\n",
    "#eligible display how many years left to be eligible.\n",
    "age=int(input(\"Enter age:\"))\n",
    "if age > 18:\n",
    "    print(\"Person is eligible to cast vote\")\n",
    "elif age == 18:\n",
    "        print(\"Person is eligible to cast vote\")\n",
    "else:\n",
    "        print(\"Person is not eligible to vote\")\n",
    "        print(\"Years left to eligible:\")\n",
    "        print(18-age)"
   ]
  },
  {
   "cell_type": "code",
   "execution_count": 20,
   "id": "d7464662",
   "metadata": {},
   "outputs": [
    {
     "name": "stdout",
     "output_type": "stream",
     "text": [
      "Enter Gender:\n",
      "Male\n",
      "Enter salary25000\n"
     ]
    },
    {
     "ename": "NameError",
     "evalue": "name 'Female' is not defined",
     "output_type": "error",
     "traceback": [
      "\u001b[1;31m---------------------------------------------------------------------------\u001b[0m",
      "\u001b[1;31mNameError\u001b[0m                                 Traceback (most recent call last)",
      "Input \u001b[1;32mIn [20]\u001b[0m, in \u001b[0;36m<cell line: 4>\u001b[1;34m()\u001b[0m\n\u001b[0;32m      2\u001b[0m gender\u001b[38;5;241m=\u001b[39m\u001b[38;5;28minput\u001b[39m()\n\u001b[0;32m      3\u001b[0m salary\u001b[38;5;241m=\u001b[39m\u001b[38;5;28mint\u001b[39m(\u001b[38;5;28minput\u001b[39m(\u001b[38;5;124m\"\u001b[39m\u001b[38;5;124mEnter salary\u001b[39m\u001b[38;5;124m\"\u001b[39m))\n\u001b[1;32m----> 4\u001b[0m \u001b[38;5;28;01mif\u001b[39;00m (gender \u001b[38;5;241m==\u001b[39m \u001b[43mFemale\u001b[49m):\n\u001b[0;32m      5\u001b[0m     \u001b[38;5;28;01mif\u001b[39;00m salary \u001b[38;5;241m>\u001b[39m \u001b[38;5;241m20000\u001b[39m:\n\u001b[0;32m      6\u001b[0m         bonus\u001b[38;5;241m=\u001b[39m(\u001b[38;5;28mfloat\u001b[39m)(salary\u001b[38;5;241m*\u001b[39m\u001b[38;5;241m0.1\u001b[39m)\n",
      "\u001b[1;31mNameError\u001b[0m: name 'Female' is not defined"
     ]
    }
   ],
   "source": [
    "#3. An organization decides to give bonus to all its employee. Bonus of 5 % is given to male\n",
    "#worker and 10 % to female worker. WAP to enter salary of an employee and gender of\n",
    "#the employee. If the salary of person is less than 20000 then the employ gets an extra 5%\n",
    "#bonus on salary. Calculate the bonus that has to be given to the employee and display the\n",
    "#salary that employee will get.\n",
    "print(\"Enter Gender:\")\n",
    "gender=input()\n",
    "salary=int(input(\"Enter salary\"))\n",
    "if (gender == Female):\n",
    "    if salary > 20000:\n",
    "        bonus=(float)(salary*0.1)\n",
    "    else:\n",
    "        bonus=(float)(salary*0.15)\n",
    "elif (gender == Male):\n",
    "    if salary > 20000:\n",
    "        bonus=(float)(salary*0.5)\n",
    "    else:\n",
    "        bonus=(float)(salary*0.1)\n",
    "else:\n",
    "    print(\"Not corrrect entry\")\n",
    "    \n",
    "print(\"The salary is:\",+salary)    "
   ]
  },
  {
   "cell_type": "code",
   "execution_count": 16,
   "id": "d95810f8",
   "metadata": {},
   "outputs": [
    {
     "name": "stdout",
     "output_type": "stream",
     "text": [
      "Enter Year2005\n",
      "Not leap year\n"
     ]
    }
   ],
   "source": [
    "#4. WAP to find a given year is leap year.\n",
    "year=int(input(\"Enter Year\"))\n",
    "\n",
    "if (year % 400 == 0) and (year % 100 == 0):\n",
    "    print(\"Leap year\")\n",
    "elif (year % 4 == 0) and (year % 100 !=0 ):\n",
    "    print(\"Leap year\")\n",
    "else:\n",
    "    print(\"Not leap year\")"
   ]
  },
  {
   "cell_type": "code",
   "execution_count": 17,
   "id": "7f0ca863",
   "metadata": {},
   "outputs": [
    {
     "name": "stdout",
     "output_type": "stream",
     "text": [
      "Enter salary1200000\n",
      "960000.0\n"
     ]
    }
   ],
   "source": [
    "#5. WAP to calculate tax of an employ as per the present income tax norms.\n",
    "salary=int(input(\"Enter salary\"))\n",
    "\n",
    "if (salary > 500000) and (salary < 1000000):\n",
    "    tax=(float)(salary*0.1)\n",
    "    print(\"Rest salary:\")\n",
    "    print(salary-tax)\n",
    "elif (salary > 1000000) and (salary < 1500000):\n",
    "    tax=(float)(salary*0.2)\n",
    "    print(\"Rest salary:\")\n",
    "    print(salary-tax)\n",
    "else:\n",
    "    tax=(float)(salary*0.3)\n",
    "    print(\"Rest salary\")\n",
    "    print(salary-tax)"
   ]
  },
  {
   "cell_type": "code",
   "execution_count": 21,
   "id": "605fccfa",
   "metadata": {},
   "outputs": [
    {
     "name": "stdout",
     "output_type": "stream",
     "text": [
      "Enter marks achieved:95\n",
      "O Grade\n"
     ]
    }
   ],
   "source": [
    "#6. WAP to find the grade of a students. Put conditions as applied in your university.\n",
    "marks=int(input(\"Enter marks achieved:\"))\n",
    "if marks >= 90:\n",
    "    print(\"O Grade\")\n",
    "elif marks >= 80:\n",
    "    print(\"E Grade\")\n",
    "elif marks >= 70:\n",
    "    print(\"A Grade\")\n",
    "elif marks >= 60:\n",
    "    print(\"B Grade\")\n",
    "elif marks >=  50:\n",
    "    print(\"C Grade\")\n",
    "else:\n",
    "    print(\"Fail\")\n",
    "    \n",
    "\n"
   ]
  },
  {
   "cell_type": "code",
   "execution_count": 15,
   "id": "2d9254e3",
   "metadata": {},
   "outputs": [
    {
     "name": "stdout",
     "output_type": "stream",
     "text": [
      "Enter 1 to exit and another to continue:4\n",
      "Enter 1 to exit and another to continue:44\n",
      "Enter 1 to exit and another to continue:56\n",
      "Enter 1 to exit and another to continue:65\n",
      "Enter 1 to exit and another to continue:-6\n",
      "Enter 1 to exit and another to continue:-7\n",
      "Enter 1 to exit and another to continue:-2\n",
      "Enter 1 to exit and another to continue:1\n",
      "No of positive: 4\n",
      "No of negative: 3\n"
     ]
    }
   ],
   "source": [
    "#7. WAP to read numbers till _1 is encountered. Find the positive and negative numbers\n",
    "#entered by user.\n",
    "positive=0\n",
    "negative=0\n",
    "\n",
    "while(True):\n",
    "    choice=int(input(\"Enter 1 to exit and another to continue:\"))\n",
    "    if choice == 1:\n",
    "        break\n",
    "    if choice  >= 0:\n",
    "        positive+=1\n",
    "    else:\n",
    "        negative+=1\n",
    "print(\"No of positive:\",+positive)\n",
    "print(\"No of negative:\",+negative)\n",
    "        "
   ]
  },
  {
   "cell_type": "code",
   "execution_count": 2,
   "id": "4b78a65b",
   "metadata": {},
   "outputs": [
    {
     "name": "stdout",
     "output_type": "stream",
     "text": [
      "Enter a number:407\n",
      "Armstrong number.\n"
     ]
    }
   ],
   "source": [
    "#8. WAP to find whether the given number is an Amstrong number or not.\n",
    "n=int(input(\"Enter a number:\"))\n",
    "sum=0\n",
    "temp=n\n",
    "while temp > 0:\n",
    "    digit=temp%10\n",
    "    sum+=digit ** 3\n",
    "    temp //= 10\n",
    "    \n",
    "if n == sum:\n",
    "    print(\"Armstrong number.\")\n",
    "else:\n",
    "    print(\"Not an armstrong number\")"
   ]
  },
  {
   "cell_type": "code",
   "execution_count": 9,
   "id": "5248c60c",
   "metadata": {},
   "outputs": [
    {
     "name": "stdout",
     "output_type": "stream",
     "text": [
      "Enter binary number:100\n",
      "4\n"
     ]
    }
   ],
   "source": [
    "#9. WAP to enter binary number and convert that to decimal.\n",
    "binary=int(input(\"Enter binary number:\"))\n",
    "decimal,i=0,0\n",
    "while(binary!=0):\n",
    "    dec=binary%10\n",
    "    decimal=decimal+dec * pow(2,i)\n",
    "    binary=binary//10\n",
    "    i+=1\n",
    "    \n",
    "print(decimal)    "
   ]
  },
  {
   "cell_type": "code",
   "execution_count": 6,
   "id": "4ad12c7a",
   "metadata": {},
   "outputs": [
    {
     "name": "stdout",
     "output_type": "stream",
     "text": [
      "Enter number:4567\n",
      "7654\n"
     ]
    }
   ],
   "source": [
    "#10. WAP to print a number in reverse order.\n",
    "num=int(input(\"Enter number:\"))\n",
    "rev_no=0\n",
    "while num > 0:\n",
    "    rem=num%10\n",
    "    rev_no=(rev_no * 10)+rem\n",
    "    num = num // 10\n",
    "    \n",
    "print(rev_no)    "
   ]
  },
  {
   "cell_type": "code",
   "execution_count": 8,
   "id": "c4a15e2c",
   "metadata": {},
   "outputs": [
    {
     "name": "stdout",
     "output_type": "stream",
     "text": [
      "Enter number:3\n",
      "3 is a prime number\n"
     ]
    }
   ],
   "source": [
    "#11. WAP to classify a given number is prime or no composite.\n",
    "num=int(input(\"Enter number:\"))\n",
    "\n",
    "flag = False\n",
    "\n",
    "if num==1:\n",
    "    print(num,\"is not a prime number.\")\n",
    "elif num > 1:\n",
    "    for i in range(2,num):\n",
    "        if(num % i) == 0:\n",
    "            flag = True\n",
    "            break\n",
    "        if flag:\n",
    "            print(num,\"is not a prime number\")\n",
    "        else:\n",
    "            print(num,\"is a prime number\")"
   ]
  },
  {
   "cell_type": "code",
   "execution_count": 9,
   "id": "45499ed0",
   "metadata": {},
   "outputs": [
    {
     "name": "stdout",
     "output_type": "stream",
     "text": [
      "Enter number of the series:4\n",
      "Enter the value of x:2\n",
      "The sum of the series: 10\n"
     ]
    }
   ],
   "source": [
    "#12. WAP to calculate sum of a series\n",
    "n=int(input(\"Enter number of the series:\"))\n",
    "x=int(input(\"Enter the value of x:\"))\n",
    "sum1=1\n",
    "for i in range(2,n+1):\n",
    "    sum1=sum1+((x**i)/i)\n",
    "print(\"The sum of the series:\",round(sum1))    "
   ]
  },
  {
   "cell_type": "code",
   "execution_count": 10,
   "id": "3ec4352d",
   "metadata": {},
   "outputs": [
    {
     "name": "stdout",
     "output_type": "stream",
     "text": [
      "Enter principal amount:10000\n",
      "Enter time:5\n",
      "The amount is: 50.0\n"
     ]
    }
   ],
   "source": [
    "#13. WAP to to calculate value of an investment. Input the initial investments and interest rate.\n",
    "principal=int(input(\"Enter principal amount:\"))\n",
    "rate=0.1\n",
    "time=int(input(\"Enter time:\"))\n",
    "\n",
    "amount=(principal*rate*time)/100\n",
    "\n",
    "print(\"The interest amount is:\",amount)"
   ]
  },
  {
   "cell_type": "code",
   "execution_count": 13,
   "id": "0795b631",
   "metadata": {},
   "outputs": [
    {
     "name": "stdout",
     "output_type": "stream",
     "text": [
      "Enter month:1\n",
      "Enter Year:2023\n",
      "    January 2023\n",
      "Mo Tu We Th Fr Sa Su\n",
      "                   1\n",
      " 2  3  4  5  6  7  8\n",
      " 9 10 11 12 13 14 15\n",
      "16 17 18 19 20 21 22\n",
      "23 24 25 26 27 28 29\n",
      "30 31\n",
      "\n"
     ]
    }
   ],
   "source": [
    "#14.WAP to generate calendar of a month the start day and the number of days in that month.\n",
    "import calendar\n",
    "\n",
    "mm=int(input(\"Enter month:\"))\n",
    "year=int(input(\"Enter Year:\"))\n",
    "\n",
    "print(calendar.month(year,mm))"
   ]
  },
  {
   "cell_type": "code",
   "execution_count": null,
   "id": "7b30beee",
   "metadata": {},
   "outputs": [],
   "source": []
  }
 ],
 "metadata": {
  "kernelspec": {
   "display_name": "Python 3 (ipykernel)",
   "language": "python",
   "name": "python3"
  },
  "language_info": {
   "codemirror_mode": {
    "name": "ipython",
    "version": 3
   },
   "file_extension": ".py",
   "mimetype": "text/x-python",
   "name": "python",
   "nbconvert_exporter": "python",
   "pygments_lexer": "ipython3",
   "version": "3.9.12"
  }
 },
 "nbformat": 4,
 "nbformat_minor": 5
}
